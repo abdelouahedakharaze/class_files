{
 "cells": [
  {
   "cell_type": "markdown",
   "metadata": {},
   "source": [
    "<div style=\"color:blue; font-size:25px; text-align:center;\"><b>OOP</b></div>"
   ]
  },
  {
   "cell_type": "code",
   "execution_count": 2,
   "metadata": {},
   "outputs": [],
   "source": [
    "class Snake:\n",
    "    def __init__(self, length, color):\n",
    "        self.length = length\n",
    "        self.color = color\n",
    "\n",
    "    def slither(self):\n",
    "        print(f\"A {self.color} snake of length {self.length} is slithering.\")"
   ]
  },
  {
   "cell_type": "code",
   "execution_count": 4,
   "metadata": {},
   "outputs": [
    {
     "name": "stdout",
     "output_type": "stream",
     "text": [
      "A green snake of length 5 is slithering.\n"
     ]
    }
   ],
   "source": [
    "ordinary_snake = Snake(5, \"green\")\n",
    "ordinary_snake.slither()"
   ]
  },
  {
   "cell_type": "code",
   "execution_count": 5,
   "metadata": {},
   "outputs": [],
   "source": [
    "class VenomousSnake(Snake):\n",
    "    def __init__(self, length, color, venom_type):\n",
    "        super().__init__(length, color)\n",
    "        self.venom_type = venom_type\n",
    "\n",
    "    def slither(self):\n",
    "        print(f\"A {self.color} venomous snake of length {self.length} is slithering silently.\")\n",
    "        print(f\"Venom type: {self.venom_type}\")"
   ]
  },
  {
   "cell_type": "code",
   "execution_count": 6,
   "metadata": {},
   "outputs": [
    {
     "name": "stdout",
     "output_type": "stream",
     "text": [
      "A black venomous snake of length 3 is slithering silently.\n",
      "Venom type: Neurotoxic\n"
     ]
    }
   ],
   "source": [
    "venomous_snake = VenomousSnake(3, \"black\", \"Neurotoxic\")\n",
    "venomous_snake.slither()"
   ]
  },
  {
   "cell_type": "markdown",
   "metadata": {},
   "source": [
    "<div style=\"color:red; font-size:25px; text-align:center;\"><b>Exercise 1 </b></div>"
   ]
  },
  {
   "cell_type": "markdown",
   "metadata": {},
   "source": [
    "Create a class Book with attributes title, author, and isbn. Create a class Library that manages a collection of books. Include methods to add a book, remove a book, and display the list of books in the library. Create instances of books and manage them using the Library class."
   ]
  }
 ],
 "metadata": {
  "kernelspec": {
   "display_name": "Python 3",
   "language": "python",
   "name": "python3"
  },
  "language_info": {
   "codemirror_mode": {
    "name": "ipython",
    "version": 3
   },
   "file_extension": ".py",
   "mimetype": "text/x-python",
   "name": "python",
   "nbconvert_exporter": "python",
   "pygments_lexer": "ipython3",
   "version": "3.11.4"
  }
 },
 "nbformat": 4,
 "nbformat_minor": 2
}
