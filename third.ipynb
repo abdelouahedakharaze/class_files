{
 "cells": [
  {
   "cell_type": "markdown",
   "metadata": {},
   "source": [
    "<div style=\"color:blue; font-size:25px; text-align:center;\"><b>DICTIONARY</b></div>"
   ]
  },
  {
   "cell_type": "code",
   "execution_count": 30,
   "metadata": {},
   "outputs": [
    {
     "name": "stdout",
     "output_type": "stream",
     "text": [
      "{'name': 'KHALED', 'age': 20, 'grade': '9th', 'subjects': ['Math', 'Physics', 'English']}\n"
     ]
    }
   ],
   "source": [
    "# Example: Creating a dictionary\n",
    "student = {\n",
    "    \"name\": \"KHALED\",\n",
    "    \"age\": 20,\n",
    "    \"grade\": \"9th\",\n",
    "    \"subjects\": [\"Math\", \"Physics\", \"English\"]\n",
    "}\n",
    "print(student)"
   ]
  },
  {
   "cell_type": "code",
   "execution_count": 31,
   "metadata": {},
   "outputs": [
    {
     "name": "stdout",
     "output_type": "stream",
     "text": [
      "KHALED\n",
      "['Math', 'Physics', 'English']\n"
     ]
    }
   ],
   "source": [
    "# Example: Accessing values in a dictionary\n",
    "print(student[\"name\"])       \n",
    "print(student[\"subjects\"])    "
   ]
  },
  {
   "cell_type": "code",
   "execution_count": 32,
   "metadata": {},
   "outputs": [
    {
     "name": "stdout",
     "output_type": "stream",
     "text": [
      "{'name': 'KHALED', 'age': 21, 'grade': '0th', 'subjects': ['Math', 'Physics', 'English']}\n"
     ]
    }
   ],
   "source": [
    "# Example: Modifying a dictionary\n",
    "student[\"age\"] = 21\n",
    "student[\"grade\"] = \"0th\"\n",
    "print(student)"
   ]
  },
  {
   "cell_type": "code",
   "execution_count": 33,
   "metadata": {},
   "outputs": [
    {
     "name": "stdout",
     "output_type": "stream",
     "text": [
      "{'name': 'KHALED', 'age': 21, 'grade': '0th', 'surname': 'Taleb'}\n"
     ]
    }
   ],
   "source": [
    "# Example: Adding and removing items in a dictionary\n",
    "student[\"surname\"] = \"Taleb\"\n",
    "del student[\"subjects\"]\n",
    "print(student)"
   ]
  },
  {
   "cell_type": "code",
   "execution_count": 34,
   "metadata": {},
   "outputs": [
    {
     "name": "stdout",
     "output_type": "stream",
     "text": [
      "name: KHALED\n",
      "age: 21\n",
      "grade: 0th\n",
      "surname: Taleb\n"
     ]
    }
   ],
   "source": [
    "# Example: Iterating through a dictionary\n",
    "for key, value in student.items():\n",
    "    print(f\"{key}: {value}\")"
   ]
  },
  {
   "cell_type": "code",
   "execution_count": 35,
   "metadata": {},
   "outputs": [
    {
     "name": "stdout",
     "output_type": "stream",
     "text": [
      "dict_keys(['name', 'age', 'grade', 'surname'])\n",
      "dict_values(['KHALED', 21, '0th', 'Taleb'])\n"
     ]
    }
   ],
   "source": [
    "# Example: Using dictionary functions\n",
    "keys = student.keys()\n",
    "values = student.values()\n",
    "print(keys)    \n",
    "print(values) "
   ]
  },
  {
   "cell_type": "code",
   "execution_count": 36,
   "metadata": {},
   "outputs": [
    {
     "name": "stdout",
     "output_type": "stream",
     "text": [
      "4\n"
     ]
    }
   ],
   "source": [
    "length = len(student)\n",
    "print(length)"
   ]
  },
  {
   "cell_type": "code",
   "execution_count": 37,
   "metadata": {},
   "outputs": [
    {
     "name": "stdout",
     "output_type": "stream",
     "text": [
      "21\n",
      "mal9itoush\n",
      "None\n"
     ]
    }
   ],
   "source": [
    "age = student.get(\"age\", \"mal9itoush\")\n",
    "print(age)\n",
    "color = student.get(\"color\", \"mal9itoush\")\n",
    "print(color)\n",
    "color = student.get(\"color\") #<----- default None if not found\n",
    "print(color)"
   ]
  },
  {
   "cell_type": "code",
   "execution_count": 38,
   "metadata": {},
   "outputs": [
    {
     "name": "stdout",
     "output_type": "stream",
     "text": [
      "dict_items([('name', 'KHALED'), ('age', 21), ('grade', '0th'), ('surname', 'Taleb')])\n"
     ]
    }
   ],
   "source": [
    "items_view = student.items()\n",
    "print(items_view)  "
   ]
  },
  {
   "cell_type": "code",
   "execution_count": 39,
   "metadata": {},
   "outputs": [
    {
     "name": "stdout",
     "output_type": "stream",
     "text": [
      "dict_keys(['name', 'age', 'grade', 'surname'])\n"
     ]
    }
   ],
   "source": [
    "keys_view = student.keys()\n",
    "print(keys_view)  "
   ]
  },
  {
   "cell_type": "code",
   "execution_count": 40,
   "metadata": {},
   "outputs": [
    {
     "name": "stdout",
     "output_type": "stream",
     "text": [
      "dict_values(['KHALED', 21, '0th', 'Taleb'])\n"
     ]
    }
   ],
   "source": [
    "values_view = student.values()\n",
    "print(values_view)  "
   ]
  },
  {
   "cell_type": "code",
   "execution_count": 41,
   "metadata": {},
   "outputs": [
    {
     "name": "stdout",
     "output_type": "stream",
     "text": [
      "dict_values(['KHALED', 21, '5th', 'Taleb', ['Math', 'Physics']])\n"
     ]
    }
   ],
   "source": [
    "additional_info = {\"grade\": \"5th\", \"subjects\": [\"Math\", \"Physics\"]}\n",
    "student.update(additional_info)\n",
    "print(student.values())"
   ]
  },
  {
   "cell_type": "markdown",
   "metadata": {},
   "source": [
    "<div style=\"color:red; font-size:25px; text-align:center;\"><b>exercise 1</b></div>"
   ]
  },
  {
   "cell_type": "markdown",
   "metadata": {},
   "source": [
    "Create a dictionary that counts the frequency of each word in a given sentence. Print the word frequencies."
   ]
  },
  {
   "cell_type": "markdown",
   "metadata": {},
   "source": [
    "<div style=\"color:red; font-size:25px; text-align:center;\"><b>exercise 2</b></div>"
   ]
  },
  {
   "cell_type": "markdown",
   "metadata": {},
   "source": [
    "Create a dictionary representing a book inventory. Each book should have attributes like \"title,\" \"author,\" and \"quantity.\" Implement a  **function** to add a new book, remove a book, and display the current inventory."
   ]
  },
  {
   "cell_type": "markdown",
   "metadata": {},
   "source": [
    "<div style=\"color:red; font-size:25px; text-align:center;\"><b>exercise 1</b></div>"
   ]
  },
  {
   "cell_type": "markdown",
   "metadata": {},
   "source": [
    "Consider the following book inventory dictionary:\n",
    "\n",
    "books = {\n",
    "    \"Python Crash Course\": 15,\n",
    "    \"Data Science for Beginners\": 8,\n",
    "    \"The Art of Statistics\": 12\n",
    "}\n",
    "\n",
    "Write a program that allows the user to update the quantity of a specific book. Ask the user to input the book title and the new quantity. Update the dictionary accordingly and print the modified book inventory."
   ]
  },
  {
   "cell_type": "code",
   "execution_count": 42,
   "metadata": {},
   "outputs": [],
   "source": [
    "books = {\n",
    "    \"Python Crash Course\": 15,\n",
    "    \"Data Science for Beginners\": 8,\n",
    "    \"The Art of Statistics\": 12\n",
    "}"
   ]
  },
  {
   "cell_type": "markdown",
   "metadata": {},
   "source": [
    "<div style=\"color:red; font-size:25px; text-align:center;\"><b>exercise final</b></div>"
   ]
  },
  {
   "cell_type": "markdown",
   "metadata": {},
   "source": [
    "Initialize an empty dictionary to represent the shopping cart.\n",
    "\n",
    "Ask the user to input items and their prices. Allow them to input multiple items.\n",
    "\n",
    "Store the items and prices in the shopping cart dictionary.\n",
    "\n",
    "Allow the user to view the items currently in the cart.\n",
    "\n",
    "Calculate the total cost of the items in the cart and display it."
   ]
  },
  {
   "cell_type": "code",
   "execution_count": 45,
   "metadata": {},
   "outputs": [
    {
     "data": {
      "text/plain": [
       "\" \\n1. Add item to cart\\n2. View cart\\n3. Calculate total cost\\n4. Quit\\n\\nEnter your choice: 1\\nEnter item name: Laptop\\nEnter item price: 800\\n\\nEnter your choice: 1\\nEnter item name: Headphones\\nEnter item price: 50\\n\\nEnter your choice: 2\\nItems in the cart: {'Laptop': 800, 'Headphones': 50}\\n\\nEnter your choice: 3\\nTotal cost: $850\\n\\nEnter your choice: 4\\n\""
      ]
     },
     "execution_count": 45,
     "metadata": {},
     "output_type": "execute_result"
    }
   ],
   "source": [
    "\"\"\" \n",
    "1. Add item to cart\n",
    "2. View cart\n",
    "3. Calculate total cost\n",
    "4. Quit\n",
    "\n",
    "Enter your choice: 1\n",
    "Enter item name: Laptop\n",
    "Enter item price: 800\n",
    "\n",
    "Enter your choice: 1\n",
    "Enter item name: Headphones\n",
    "Enter item price: 50\n",
    "\n",
    "Enter your choice: 2\n",
    "Items in the cart: {'Laptop': 800, 'Headphones': 50}\n",
    "\n",
    "Enter your choice: 3\n",
    "Total cost: $850\n",
    "\n",
    "Enter your choice: 4\n",
    "\"\"\""
   ]
  },
  {
   "cell_type": "markdown",
   "metadata": {},
   "source": [
    "<div style=\"color:red; font-size:25px; text-align:center;\"><b>exercise 1</b></div>"
   ]
  }
 ],
 "metadata": {
  "kernelspec": {
   "display_name": "Python 3",
   "language": "python",
   "name": "python3"
  },
  "language_info": {
   "codemirror_mode": {
    "name": "ipython",
    "version": 3
   },
   "file_extension": ".py",
   "mimetype": "text/x-python",
   "name": "python",
   "nbconvert_exporter": "python",
   "pygments_lexer": "ipython3",
   "version": "3.11.4"
  }
 },
 "nbformat": 4,
 "nbformat_minor": 2
}
