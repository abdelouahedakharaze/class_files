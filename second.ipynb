{
 "cells": [
  {
   "cell_type": "markdown",
   "metadata": {},
   "source": [
    "<div style=\"color:blue; font-size:25px; text-align:center;\"><b>LISTS</b></div>"
   ]
  },
  {
   "cell_type": "code",
   "execution_count": 11,
   "metadata": {},
   "outputs": [
    {
     "name": "stdout",
     "output_type": "stream",
     "text": [
      "[1, 2, 3, 4, 5]\n",
      "['apple', 'banana', 'orange']\n",
      "[1, 'hello', 3.14, True]\n"
     ]
    }
   ],
   "source": [
    "# Example 1: Creating a list of numbers\n",
    "numbers = [1, 2, 3, 4, 5]\n",
    "\n",
    "# Example 2: Creating a list of strings\n",
    "fruits = [\"apple\", \"banana\", \"orange\"]\n",
    "\n",
    "# Example 3: Creating a mixed-type list\n",
    "mixed_list = [1, \"hello\", 3.14, True]\n",
    "print(numbers,fruits,mixed_list,sep=\"\\n\")"
   ]
  },
  {
   "cell_type": "code",
   "execution_count": 12,
   "metadata": {},
   "outputs": [
    {
     "name": "stdout",
     "output_type": "stream",
     "text": [
      "1\n",
      "orange\n"
     ]
    }
   ],
   "source": [
    "# Example: Accessing elements in a list\n",
    "print(numbers[0])  \n",
    "print(fruits[2])  "
   ]
  },
  {
   "cell_type": "code",
   "execution_count": 13,
   "metadata": {},
   "outputs": [
    {
     "name": "stdout",
     "output_type": "stream",
     "text": [
      "[3, 1, 4, 5, 7]\n",
      "[3, 1, 4, 5, 7, 8, 9, 10]\n",
      "[3, 1, 4, 5, 7, 0, 8, 9, 10]\n"
     ]
    }
   ],
   "source": [
    "numbers = [3, 1, 4, 5]\n",
    "\n",
    "numbers.append(7)\n",
    "print(numbers)\n",
    "\n",
    "numbers.extend([8, 9, 10])\n",
    "print(numbers)\n",
    "\n",
    "numbers.insert(5, 0)\n",
    "print(numbers)"
   ]
  },
  {
   "cell_type": "code",
   "execution_count": 14,
   "metadata": {},
   "outputs": [
    {
     "name": "stdout",
     "output_type": "stream",
     "text": [
      "[3, 1, 4, 7, 0, 8, 9, 10]\n",
      "8\n",
      "[3, 1, 4, 7, 0, 9, 10]\n",
      "3\n",
      "0\n"
     ]
    }
   ],
   "source": [
    "numbers.remove(5)\n",
    "print(numbers)\n",
    "\n",
    "popped_element = numbers.pop(5)\n",
    "print(popped_element)\n",
    "print(numbers)\n",
    "\n",
    "index_of_7 = numbers.index(7)\n",
    "print(index_of_7)\n",
    "\n",
    "count_of_5 = numbers.count(5)\n",
    "print(count_of_5)"
   ]
  },
  {
   "cell_type": "code",
   "execution_count": 15,
   "metadata": {},
   "outputs": [
    {
     "name": "stdout",
     "output_type": "stream",
     "text": [
      "0\n",
      "7\n",
      "10\n"
     ]
    }
   ],
   "source": [
    "count_of_5 = numbers.count(5)\n",
    "print(count_of_5)\n",
    "\n",
    "length = len(numbers)\n",
    "print(length)\n",
    "\n",
    "max_value = max(numbers)\n",
    "print(max_value)\n",
    "\n"
   ]
  },
  {
   "cell_type": "code",
   "execution_count": 16,
   "metadata": {},
   "outputs": [
    {
     "name": "stdout",
     "output_type": "stream",
     "text": [
      "[0, 1, 3, 4, 7, 9, 10]\n",
      "34\n",
      "[10, 9, 7, 4, 3, 1, 0]\n"
     ]
    }
   ],
   "source": [
    "numbers.sort()\n",
    "print(numbers)\n",
    "\n",
    "sum_of_numbers = sum(numbers)\n",
    "print(sum_of_numbers)\n",
    "\n",
    "sorted_numbers = sorted(numbers, reverse=True)\n",
    "print(sorted_numbers)"
   ]
  },
  {
   "cell_type": "markdown",
   "metadata": {},
   "source": [
    "<div style=\"color:red; font-size:25px; text-align:center;\"><b>Exercise 1</b></div>"
   ]
  },
  {
   "cell_type": "markdown",
   "metadata": {},
   "source": [
    "Create a list of numbers. Write a program that generates a new list containing only the even numbers from the original list."
   ]
  },
  {
   "cell_type": "code",
   "execution_count": 3,
   "metadata": {},
   "outputs": [
    {
     "name": "stdout",
     "output_type": "stream",
     "text": [
      "[0, 1, 2, 3, 4, 5, 6, 7, 8, 9, 10, 11, 12, 13, 14, 15, 16, 17, 18, 19, 20, 21, 22, 23, 24, 25, 26, 27, 28, 29, 30, 31, 32, 33, 34, 35, 36, 37, 38, 39]\n",
      "[0, 2, 4, 6, 8, 10, 12, 14, 16, 18, 20, 22, 24, 26, 28, 30, 32, 34, 36, 38]\n"
     ]
    }
   ],
   "source": [
    "my_list=list(range(40))\n",
    "print(my_list)\n",
    "Result=[]\n",
    "for i in my_list:\n",
    "    if i%2 == 0:\n",
    "        Result.append(i)\n",
    "print(Result)"
   ]
  },
  {
   "cell_type": "markdown",
   "metadata": {},
   "source": [
    "<div style=\"color:red; font-size:25px; text-align:center;\"><b>Exercise 2</b></div>"
   ]
  },
  {
   "cell_type": "markdown",
   "metadata": {},
   "source": [
    "Create a list of numbers. Write a program that generates a new list where each element is the sum of all elements in the original list up to that point."
   ]
  },
  {
   "cell_type": "code",
   "execution_count": null,
   "metadata": {},
   "outputs": [],
   "source": [
    "my_list=list(range(20))\n",
    "print(my_list)\n"
   ]
  },
  {
   "cell_type": "code",
   "execution_count": 5,
   "metadata": {},
   "outputs": [
    {
     "name": "stdout",
     "output_type": "stream",
     "text": [
      "[1, 3, 6, 10, 15, 21, 28, 36, 45, 55]\n"
     ]
    }
   ],
   "source": [
    "my_list=[1,2,3,4,5,6,7,8,9,10]\n",
    "Result=[]\n",
    "for i in my_list:\n",
    "    i=sum(my_list[:i])\n",
    "    Result.append(i)\n",
    "print(Result)"
   ]
  },
  {
   "cell_type": "markdown",
   "metadata": {},
   "source": [
    "<div style=\"color:red; font-size:25px; text-align:center;\"><b>Exercise 3</b></div>"
   ]
  },
  {
   "cell_type": "markdown",
   "metadata": {},
   "source": [
    "Create a list of numbers. Write a program that calculates and prints the average of the numbers in the list."
   ]
  },
  {
   "cell_type": "code",
   "execution_count": 6,
   "metadata": {},
   "outputs": [
    {
     "name": "stdout",
     "output_type": "stream",
     "text": [
      "9.5\n"
     ]
    }
   ],
   "source": [
    "my_list=list(range(20))\n",
    "avrge=sum(my_list)/len(my_list)\n",
    "print(avrge)"
   ]
  },
  {
   "cell_type": "markdown",
   "metadata": {},
   "source": [
    "<div style=\"color:red; font-size:25px; text-align:center;\"><b>Exercise 4</b></div>"
   ]
  },
  {
   "cell_type": "markdown",
   "metadata": {},
   "source": [
    "Create a list of numbers. Write a program that generates a new list where each element is twice the corresponding element in the original list."
   ]
  },
  {
   "cell_type": "markdown",
   "metadata": {},
   "source": [
    "<div style=\"color:red; font-size:25px; text-align:center;\"><b>Exercise 5</b></div>"
   ]
  },
  {
   "cell_type": "markdown",
   "metadata": {},
   "source": [
    "Create a list of any type. Write a program that calculates and prints the length of the list."
   ]
  },
  {
   "cell_type": "code",
   "execution_count": 9,
   "metadata": {},
   "outputs": [
    {
     "name": "stdout",
     "output_type": "stream",
     "text": [
      "250\n"
     ]
    }
   ],
   "source": [
    "my_list=list(range(250))\n",
    "def my_len(a):\n",
    "    i=0\n",
    "    for i in a:\n",
    "        i=i+1\n",
    "    print(i)\n",
    "my_len(my_list)"
   ]
  }
 ],
 "metadata": {
  "kernelspec": {
   "display_name": "Python 3",
   "language": "python",
   "name": "python3"
  },
  "language_info": {
   "codemirror_mode": {
    "name": "ipython",
    "version": 3
   },
   "file_extension": ".py",
   "mimetype": "text/x-python",
   "name": "python",
   "nbconvert_exporter": "python",
   "pygments_lexer": "ipython3",
   "version": "3.11.4"
  }
 },
 "nbformat": 4,
 "nbformat_minor": 2
}
