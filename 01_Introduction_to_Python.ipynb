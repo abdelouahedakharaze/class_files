{
 "cells": [
  {
   "cell_type": "markdown",
   "metadata": {},
   "source": [
    "<div style=\"color:blue; font-size:25px; text-align:center;\"><b>print()</b></div>"
   ]
  },
  {
   "cell_type": "code",
   "execution_count": 2,
   "metadata": {},
   "outputs": [
    {
     "name": "stdout",
     "output_type": "stream",
     "text": [
      "Hello, World!\n",
      "My name is WALID and I am 30 years old.\n",
      "My name is 30 and I am WALID years old.\n",
      "My name is WALID and I am 30 years old .\n",
      "apple*orange*banana END \n",
      "This is a line with a\n",
      "newline character.\n",
      "This is a tab\tseparated line.\n",
      "This is a raw string. \\n will not be treated as a newline character.\n"
     ]
    }
   ],
   "source": [
    "print(\"Hello, World!\")\n",
    "\n",
    "name = \"WALID\"\n",
    "age = 30\n",
    "\n",
    "print(\"My name is \" + name + \" and I am \" + str(age) + \" years old.\")\n",
    "\n",
    "print(f\"My name is {age} and I am {name} years old.\")\n",
    "\n",
    "print(\"My name is {} and I am {} years old .\".format(name, age))\n",
    "\n",
    "print(\"apple\", \"orange\", \"banana\",sep=\"*\",end=\" END \\n\")\n",
    "\n",
    "print(\"This is a line with a\\nnewline character.\")\n",
    "\n",
    "print(\"This is a tab\\tseparated line.\")\n",
    "\n",
    "print(r\"This is a raw string. \\n will not be treated as a newline character.\")\n"
   ]
  },
  {
   "cell_type": "markdown",
   "metadata": {},
   "source": [
    "<div style=\"color:blue; font-size:25px; text-align:center;\"><b>input()</b></div>"
   ]
  },
  {
   "cell_type": "code",
   "execution_count": 13,
   "metadata": {},
   "outputs": [
    {
     "name": "stdout",
     "output_type": "stream",
     "text": [
      "Hello, 58! Welcome to our Jupyter Notebook.\n"
     ]
    }
   ],
   "source": [
    "\n",
    "user_name = input(\"Enter your name: \")\n",
    "\n",
    "print(f\"Hello, {user_name}! Welcome to our Jupyter Notebook.\")"
   ]
  },
  {
   "cell_type": "code",
   "execution_count": 14,
   "metadata": {},
   "outputs": [
    {
     "name": "stdout",
     "output_type": "stream",
     "text": [
      "Hello, walid! Welcome to our Jupyter Notebook.\n",
      "Hello, walid! Your mean mark is: 19.666666666666668\n"
     ]
    }
   ],
   "source": [
    "# Get user input for their name\n",
    "user_name = input(\"Enter your name: \")\n",
    "# Greet the user\n",
    "print(f\"Hello, {user_name}! Welcome to our Jupyter Notebook.\")\n",
    "# Ask for math, bio, and physics marks\n",
    "math_mark = float(input(\"Enter your math mark: \"))\n",
    "bio_mark = float(input(\"Enter your biology mark: \"))\n",
    "physics_mark = float(input(\"Enter your physics mark: \"))\n",
    "# Calculate the mean\n",
    "mean = (math_mark + bio_mark + physics_mark) / 3\n",
    "# Print the mean\n",
    "print(f\"Hello, {user_name}! Your mean mark is: {mean}\")\n"
   ]
  },
  {
   "cell_type": "markdown",
   "metadata": {},
   "source": [
    "<div style=\"color:blue; font-size:25px; text-align:center;\"><b>Mathematical Operations</b></div>"
   ]
  },
  {
   "cell_type": "code",
   "execution_count": 15,
   "metadata": {},
   "outputs": [
    {
     "name": "stdout",
     "output_type": "stream",
     "text": [
      "Sum of a and b: 24\n",
      "Difference of a and b: 14\n",
      "Product of a and b: 95\n",
      "Division of a by b: 3.8\n",
      "Floor Division of a by b: 3\n",
      "Exponentiation of a to the power of b: 2476099\n",
      "4\n"
     ]
    }
   ],
   "source": [
    "\n",
    "a = 19\n",
    "b = 5\n",
    "# Perform mathematical operations\n",
    "sum_result = a + b\n",
    "difference_result = a - b\n",
    "product_result = a * b\n",
    "division_result = a / b\n",
    "floor_division_result = a // b\n",
    "exponentiation_result = a ** b\n",
    "modulo=a%b\n",
    "# Print the results\n",
    "print(f\"Sum of a and b: {sum_result}\")\n",
    "print(f\"Difference of a and b: {difference_result}\")\n",
    "print(f\"Product of a and b: {product_result}\")\n",
    "print(f\"Division of a by b: {division_result}\")\n",
    "print(f\"Floor Division of a by b: {floor_division_result}\")\n",
    "print(f\"Exponentiation of a to the power of b: {exponentiation_result}\")\n",
    "print(modulo)"
   ]
  },
  {
   "cell_type": "markdown",
   "metadata": {},
   "source": [
    "<div style=\"color:blue; font-size:25px; text-align:center;\"><b>Converting Between Types and Using type()</b></div>"
   ]
  },
  {
   "cell_type": "code",
   "execution_count": 23,
   "metadata": {},
   "outputs": [
    {
     "name": "stdout",
     "output_type": "stream",
     "text": [
      "<class 'str'>\n",
      "<class 'float'>\n"
     ]
    }
   ],
   "source": [
    "\n",
    "string_number = \"123\"\n",
    "integer_number = int(string_number)\n",
    "print(f\"Converted integer: {integer_number}, Type: {type(integer_number)}\")\n",
    "\n",
    "int_value = 42\n",
    "float_value = float(int_value)\n",
    "print(f\"Converted float: {float_value}, Type: {type(float_value)}\")\n",
    "\n",
    "pi = 3.14159\n",
    "pi_string = str(pi)\n",
    "print(f\"Converted string: {pi_string}, Type: {type(pi_string)}\")\n",
    "\n",
    "value = 42.0\n",
    "print(f\"The type of {value} is: {type(value)}\")\n"
   ]
  },
  {
   "cell_type": "markdown",
   "metadata": {},
   "source": [
    "<div style=\"color:blue; font-size:25px; text-align:center;\"><b>String Functions</b></div>"
   ]
  },
  {
   "cell_type": "code",
   "execution_count": 25,
   "metadata": {},
   "outputs": [
    {
     "name": "stdout",
     "output_type": "stream",
     "text": [
      "The length of the string is: 12\n",
      "The string representation of the number is: 42\n",
      "The capitalized version of the name is: Khaled\n",
      "The lowercase version of the text is: hello, world\n",
      "The uppercase version of the text is: HELLO, WORLD\n",
      "The title-cased version of the text is: Hello, World\n",
      "The number of 'l' in the text is: 3\n",
      "The index of 'world' in the text is: -1\n",
      "The modified text is: Hello, Universe\n"
     ]
    }
   ],
   "source": [
    "\n",
    "# len() - Returns the length of a string\n",
    "text = \"Hello, World\"\n",
    "length = len(text)\n",
    "print(f\"The length of the string is: {length}\")\n",
    "\n",
    "# str() - Converts any object to a string\n",
    "number = 42\n",
    "number_str = str(number)\n",
    "print(f\"The string representation of the number is: {number_str}\")\n",
    "\n",
    "# capitalize() - Returns a copy of the string with its first character capitalized\n",
    "name = \"khaled\"\n",
    "capitalized_name = name.capitalize()\n",
    "print(f\"The capitalized version of the name is: {capitalized_name}\")\n",
    "\n",
    "# lower() - Returns a copy of the string converted to lowercase\n",
    "lowercase_text = text.lower()\n",
    "print(f\"The lowercase version of the text is: {lowercase_text}\")\n",
    "\n",
    "# upper() - Returns a copy of the string converted to uppercase\n",
    "uppercase_text = text.upper()\n",
    "print(f\"The uppercase version of the text is: {uppercase_text}\")\n",
    "\n",
    "# title() - Returns a version of the string where each word begins with an uppercase letter\n",
    "title_text = text.title()\n",
    "print(f\"The title-cased version of the text is: {title_text}\")\n",
    "\n",
    "# count() - Returns the number of occurrences of a substring in the string\n",
    "substring = \"l\"\n",
    "count_l = text.count(substring)\n",
    "print(f\"The number of '{substring}' in the text is: {count_l}\")\n",
    "\n",
    "# find() - Returns the lowest index of a substring in the string, -1 if not found\n",
    "substring = \"World\"\n",
    "index_world = text.find(substring)\n",
    "print(f\"The index of '{substring}' in the text is: {index_world}\")\n",
    "\n",
    "# replace() - Returns a string with all occurrences of a substring replaced with another substring\n",
    "new_text = text.replace(\"World\", \"Universe\")\n",
    "print(f\"The modified text is: {new_text}\")\n"
   ]
  },
  {
   "cell_type": "markdown",
   "metadata": {},
   "source": [
    "<div style=\"color:blue; font-size:25px; text-align:center;\"><b>Slicing , ex:Strings</b></div>"
   ]
  },
  {
   "cell_type": "code",
   "execution_count": 8,
   "metadata": {},
   "outputs": [
    {
     "name": "stdout",
     "output_type": "stream",
     "text": [
      "Hello\n",
      "World\n",
      "Hello\n",
      "World!\n",
      "World\n",
      "Hlo ol!\n"
     ]
    }
   ],
   "source": [
    "\n",
    "text = \"Hello, World!\"\n",
    "substring1 = text[0:5]\n",
    "substring2 = text[7:12]\n",
    "print(substring1)\n",
    "print(substring2)\n",
    "\n",
    "substring3 = text[:5]\n",
    "substring4 = text[7:]\n",
    "print(substring3)\n",
    "print(substring4)\n",
    "\n",
    "substring5 = text[-6:-1]\n",
    "print(substring5)\n",
    "\n",
    "substring6 = text[::2]\n",
    "print(substring6)\n"
   ]
  },
  {
   "cell_type": "markdown",
   "metadata": {},
   "source": [
    "<div style=\"color:blue; font-size:25px; text-align:center;\"><b>if statement</b></div>"
   ]
  },
  {
   "cell_type": "code",
   "execution_count": 28,
   "metadata": {},
   "outputs": [
    {
     "name": "stdout",
     "output_type": "stream",
     "text": [
      "The number is 4 and it's  positive.\n"
     ]
    }
   ],
   "source": [
    "# Check if a number is positive or negative\n",
    "number = int(input(\"Enter a number: \"))\n",
    "# TODO modify the code so it prints the chosen number \n",
    "if number > 0:\n",
    "    print(f\"The number is {number} and it's  positive.\")\n",
    "elif number < 0:\n",
    "    print(f\"The number is {number}  and it's negative.\")\n",
    "else:\n",
    "    print(\"The number is zero.\")"
   ]
  },
  {
   "cell_type": "code",
   "execution_count": 32,
   "metadata": {},
   "outputs": [
    {
     "name": "stdout",
     "output_type": "stream",
     "text": [
      "The student's grade is: A : => 99\n"
     ]
    }
   ],
   "source": [
    "# Get the student's exam score\n",
    "score = int(input(\"Enter the student's exam score: \"))\n",
    "# Determine the grade level based on the score\n",
    "if score >= 90:\n",
    "    grade = \"A\"\n",
    "elif score >= 80:\n",
    "    grade = \"B\"\n",
    "elif score >= 70:\n",
    "    grade = \"C\"\n",
    "elif score >= 60:\n",
    "    grade = \"D\"\n",
    "else:\n",
    "    grade = \"F\"\n",
    "# Display the grade\n",
    "print(f\"The student's grade is: {grade} : => {score}\")\n"
   ]
  },
  {
   "cell_type": "markdown",
   "metadata": {},
   "source": [
    "<div style=\"color:blue; font-size:25px; text-align:center;\"><b>for loop</b></div>"
   ]
  },
  {
   "cell_type": "code",
   "execution_count": 38,
   "metadata": {},
   "outputs": [
    {
     "name": "stdout",
     "output_type": "stream",
     "text": [
      "PP yy tt hh oo nn \n",
      "2 4 6 8 10 \n",
      "0 1 2 3 4 "
     ]
    }
   ],
   "source": [
    "# Iterate over a string\n",
    "word = \"Python\"\n",
    "for i in word:\n",
    "    print(i*2,end=\" \")\n",
    "print()\n",
    "# Iterate over a list of numbers\n",
    "numbers = [1, 2, 3, 4, 5]\n",
    "for num in numbers:\n",
    "    print(num*2,end=\" \")\n",
    "print()\n",
    "# Iterate over a range of numbers\n",
    "for i in range(5):\n",
    "    print(i,end=\" \")\n"
   ]
  },
  {
   "cell_type": "markdown",
   "metadata": {},
   "source": [
    "<div style=\"color:blue; font-size:25px; text-align:center;\"><b>range()</b></div>"
   ]
  },
  {
   "cell_type": "code",
   "execution_count": 29,
   "metadata": {},
   "outputs": [
    {
     "name": "stdout",
     "output_type": "stream",
     "text": [
      "01234\n",
      "234567\n",
      "02468"
     ]
    }
   ],
   "source": [
    "#range(start, stop, step)\n",
    "# Example 1: range(stop)\n",
    "for i in range(5):\n",
    "    print(i,end=\"\")\n",
    "print()\n",
    "# Example 2: range(start, stop)\n",
    "for j in range(2, 8):\n",
    "    print(j,end=\"\")\n",
    "print()\n",
    "# Example 3: range(start, stop, step)\n",
    "for k in range(0, 10, 2):\n",
    "    print(k,end=\"\")"
   ]
  },
  {
   "cell_type": "markdown",
   "metadata": {},
   "source": [
    "<div style=\"color:blue; font-size:25px; text-align:center;\"><b>while loop</b></div>"
   ]
  },
  {
   "cell_type": "code",
   "execution_count": 33,
   "metadata": {},
   "outputs": [
    {
     "name": "stdout",
     "output_type": "stream",
     "text": [
      "1\n",
      "2\n",
      "3\n",
      "4\n",
      "5\n"
     ]
    }
   ],
   "source": [
    "\"\"\" while condition:\n",
    "     Code to be executed \"\"\"\n",
    "\n",
    "# Example: Using while loop to count from 1 to 5\n",
    "counter = 1\n",
    "\n",
    "while counter <= 5:\n",
    "    print(counter)\n",
    "    counter += 1 # <--- try to forget this , if you are a man \n"
   ]
  },
  {
   "cell_type": "code",
   "execution_count": 39,
   "metadata": {},
   "outputs": [
    {
     "name": "stdout",
     "output_type": "stream",
     "text": [
      "1\n",
      "2\n",
      "3\n",
      "4\n",
      "5\n",
      "6\n",
      "7\n",
      "8\n",
      "9\n"
     ]
    }
   ],
   "source": [
    "# Example: Using while loop with break\n",
    "counter = 1\n",
    "\n",
    "while counter <= 10:\n",
    "    print(counter)\n",
    "    if counter == 9:\n",
    "        break\n",
    "    counter += 1\n"
   ]
  },
  {
   "cell_type": "markdown",
   "metadata": {},
   "source": [
    "<div style=\"color:orange; font-size:25px; text-align:center;\"><b>Exercise 1</b></div>"
   ]
  },
  {
   "cell_type": "markdown",
   "metadata": {},
   "source": [
    "Write a program that generates and prints the multiplication table for a given number using a while loop/for. Allow the user to specify the number."
   ]
  },
  {
   "cell_type": "code",
   "execution_count": 43,
   "metadata": {},
   "outputs": [
    {
     "name": "stdout",
     "output_type": "stream",
     "text": [
      "4 X 0 = 0\n",
      "4 X 1 = 4\n",
      "4 X 2 = 8\n",
      "4 X 3 = 12\n",
      "4 X 4 = 16\n",
      "4 X 5 = 20\n",
      "4 X 6 = 24\n",
      "4 X 7 = 28\n",
      "4 X 8 = 32\n",
      "4 X 9 = 36\n",
      "4 X 10 = 40\n"
     ]
    }
   ],
   "source": [
    "number = int(input(\"enter your number\"))\n",
    "for i in range(11):\n",
    "    print(f\"{number} X {i} =\", number*i)"
   ]
  },
  {
   "cell_type": "code",
   "execution_count": 48,
   "metadata": {},
   "outputs": [
    {
     "name": "stdout",
     "output_type": "stream",
     "text": [
      "5 x 0 =  0\n",
      "5 x 1 =  5\n",
      "5 x 2 =  10\n",
      "5 x 3 =  15\n",
      "5 x 4 =  20\n",
      "5 x 5 =  25\n"
     ]
    }
   ],
   "source": [
    "number = int(input(\"enter your number\"))\n",
    "number2= int(input(\"enter your number\"))\n",
    "i=0\n",
    "while i <= number2:\n",
    "    print(f\"{number} x {i} = \", number*i)\n",
    "    i+=1"
   ]
  },
  {
   "cell_type": "markdown",
   "metadata": {},
   "source": [
    "<div style=\"color:red; font-size:25px; text-align:center;\"><b>Exercise 2</b></div>"
   ]
  },
  {
   "cell_type": "markdown",
   "metadata": {},
   "source": [
    "Create a program that takes a sentence from the user and removes all vowels from it using a while/for loop. Print the modified sentence."
   ]
  },
  {
   "cell_type": "code",
   "execution_count": 49,
   "metadata": {},
   "outputs": [
    {
     "name": "stdout",
     "output_type": "stream",
     "text": [
      "hello im here to be or not to be \n",
      "hll m hr t b r nt t b \n"
     ]
    }
   ],
   "source": [
    "sentence=\"hello im here to be or not to be \"\n",
    "result=\"\"\n",
    "for harf in sentence:\n",
    "    if harf not in \"AEIUaeiuoO\":\n",
    "        result+=harf\n",
    "print(sentence)\n",
    "print(result)"
   ]
  },
  {
   "cell_type": "code",
   "execution_count": 50,
   "metadata": {},
   "outputs": [
    {
     "name": "stdout",
     "output_type": "stream",
     "text": [
      "yr sntnc\n"
     ]
    }
   ],
   "source": [
    "Sentence = \"your sentence\"\n",
    "vowels=\"aeuio\"\n",
    "notvowels=\"\"\n",
    "for i in Sentence:\n",
    "    if i  not in vowels:\n",
    "        notvowels = notvowels + i\n",
    "print(notvowels)"
   ]
  },
  {
   "cell_type": "markdown",
   "metadata": {},
   "source": [
    "<div style=\"color:red; font-size:25px; text-align:center;\"><b>exercise 3</b></div>"
   ]
  },
  {
   "cell_type": "markdown",
   "metadata": {},
   "source": [
    "Write a program that takes a number from the user and prints its reverse. Use a while/for loop to perform the reversal."
   ]
  },
  {
   "cell_type": "code",
   "execution_count": 53,
   "metadata": {},
   "outputs": [
    {
     "name": "stdout",
     "output_type": "stream",
     "text": [
      "894\n",
      "498\n"
     ]
    }
   ],
   "source": [
    "number=input(\"enter a number \")\n",
    "print(number)\n",
    "print(number[::-1])"
   ]
  },
  {
   "cell_type": "code",
   "execution_count": 55,
   "metadata": {},
   "outputs": [
    {
     "name": "stdout",
     "output_type": "stream",
     "text": [
      "687"
     ]
    }
   ],
   "source": [
    "number=\"786\"\n",
    "m=len(number)-1\n",
    "while m>-1:\n",
    "    print(number[m],end=\"\")\n",
    "    m-=1"
   ]
  },
  {
   "cell_type": "code",
   "execution_count": 10,
   "metadata": {},
   "outputs": [
    {
     "name": "stdout",
     "output_type": "stream",
     "text": [
      "6\n",
      "8\n",
      "7\n"
     ]
    }
   ],
   "source": [
    "number=\"786\"\n",
    "for i in range(len(number)-1,-1,-1):\n",
    "    print(number[i])"
   ]
  }
 ],
 "metadata": {
  "kernelspec": {
   "display_name": "Python 3",
   "language": "python",
   "name": "python3"
  },
  "language_info": {
   "codemirror_mode": {
    "name": "ipython",
    "version": 3
   },
   "file_extension": ".py",
   "mimetype": "text/x-python",
   "name": "python",
   "nbconvert_exporter": "python",
   "pygments_lexer": "ipython3",
   "version": "3.11.4"
  }
 },
 "nbformat": 4,
 "nbformat_minor": 2
}
