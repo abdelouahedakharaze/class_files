{
 "cells": [
  {
   "cell_type": "code",
   "execution_count": null,
   "id": "ee80ad05-bd41-4b8d-ab44-f407cadd1923",
   "metadata": {},
   "outputs": [],
   "source": [
    "class Person:\n",
    "    def __init__(self, name, age):\n",
    "        self.name = name # attribute \n",
    "        self.age = age # annoder one \" khalid meme\" \n",
    "\n",
    "    def greet(self):\n",
    "        return f\"Hello, my name is {self.name} and I am {self.age} years old.\"\n",
    "\n",
    "\n"
   ]
  },
  {
   "cell_type": "code",
   "execution_count": null,
   "id": "75369f04-addb-4dd7-b9e2-9bb1962cdc2e",
   "metadata": {},
   "outputs": [],
   "source": [
    "## now create and object from that class\n",
    "## call the attribute of that object "
   ]
  },
  {
   "cell_type": "code",
   "execution_count": null,
   "id": "3c495a31-5060-4e37-ad9f-b5e6a612a863",
   "metadata": {},
   "outputs": [],
   "source": [
    "# understand what init means \n",
    "class Person:\n",
    "    def __init__(self, name, age):\n",
    "        self.name = name # attribute \n",
    "        self.age = age # annoder one \" khalid meme\" \n",
    "        print (\" a Person was created \")\n",
    "\n",
    "    def greet(self):\n",
    "        return f\"Hello, my name is {self.name} and I am {self.age} years old.\"\n"
   ]
  },
  {
   "cell_type": "code",
   "execution_count": null,
   "id": "8ad58389-5624-488b-9dad-9ad1f11afc5f",
   "metadata": {},
   "outputs": [],
   "source": [
    "### Create your own class and give it 3 attributes and 3 behaviors."
   ]
  },
  {
   "cell_type": "code",
   "execution_count": null,
   "id": "ba015a0e-e481-43df-9352-0ea666d51177",
   "metadata": {},
   "outputs": [],
   "source": [
    "### create 3 different objects from you class and call their methods "
   ]
  },
  {
   "cell_type": "code",
   "execution_count": null,
   "id": "6b8efc84-ce88-4118-be94-224081fd1684",
   "metadata": {},
   "outputs": [],
   "source": []
  },
  {
   "cell_type": "code",
   "execution_count": null,
   "id": "55d95df1-254d-4e19-a9d7-94afb6c6d0fb",
   "metadata": {},
   "outputs": [],
   "source": []
  },
  {
   "cell_type": "code",
   "execution_count": null,
   "id": "b3437fe2-daf9-4271-81c5-6956123f181f",
   "metadata": {},
   "outputs": [],
   "source": []
  },
  {
   "cell_type": "code",
   "execution_count": null,
   "id": "184e764d-e814-477b-83d4-fed892a6391d",
   "metadata": {},
   "outputs": [],
   "source": []
  },
  {
   "cell_type": "code",
   "execution_count": null,
   "id": "82539011-7030-46e1-a0f8-9b5422878b2d",
   "metadata": {},
   "outputs": [],
   "source": []
  },
  {
   "cell_type": "code",
   "execution_count": null,
   "id": "37086401-f7d5-4907-bfb2-db9bd264db56",
   "metadata": {},
   "outputs": [],
   "source": []
  },
  {
   "cell_type": "code",
   "execution_count": null,
   "id": "4a94a691-df88-4f37-957f-37ca8754114f",
   "metadata": {},
   "outputs": [],
   "source": []
  },
  {
   "cell_type": "code",
   "execution_count": null,
   "id": "bd694870-efa5-4b40-8a4c-75b2e1a61926",
   "metadata": {},
   "outputs": [],
   "source": []
  },
  {
   "cell_type": "code",
   "execution_count": null,
   "id": "ae32eadf-7742-41cc-8dea-9f43a8429ff4",
   "metadata": {},
   "outputs": [],
   "source": []
  },
  {
   "cell_type": "code",
   "execution_count": null,
   "id": "45fd46bd-c358-405e-8ad4-f929ddaf686f",
   "metadata": {},
   "outputs": [],
   "source": []
  },
  {
   "cell_type": "code",
   "execution_count": null,
   "id": "c64f1ad6-f634-402c-8c14-4347320b275c",
   "metadata": {},
   "outputs": [],
   "source": []
  },
  {
   "cell_type": "code",
   "execution_count": null,
   "id": "47e887ba-414e-49fe-967c-fee47a327fa0",
   "metadata": {},
   "outputs": [],
   "source": []
  },
  {
   "cell_type": "code",
   "execution_count": null,
   "id": "d6b3060a-45a5-4b3d-b1ca-d959a3b6878c",
   "metadata": {},
   "outputs": [],
   "source": []
  },
  {
   "cell_type": "code",
   "execution_count": null,
   "id": "b047abfb-f915-415a-8189-f686bfcd0aac",
   "metadata": {},
   "outputs": [],
   "source": []
  },
  {
   "cell_type": "code",
   "execution_count": null,
   "id": "6572420a-6b49-4d10-9990-ea20ad6a57be",
   "metadata": {},
   "outputs": [],
   "source": []
  },
  {
   "cell_type": "code",
   "execution_count": null,
   "id": "3220932f-576f-49fc-ac54-ff8e94070b41",
   "metadata": {},
   "outputs": [],
   "source": []
  },
  {
   "cell_type": "code",
   "execution_count": null,
   "id": "93fbb868-1941-4513-a7b2-fbd9ce91da69",
   "metadata": {},
   "outputs": [],
   "source": []
  },
  {
   "cell_type": "code",
   "execution_count": null,
   "id": "86f31624-0767-4da5-b532-4efb4a3a6d25",
   "metadata": {},
   "outputs": [],
   "source": []
  },
  {
   "cell_type": "code",
   "execution_count": null,
   "id": "de30f175-f390-4221-bc14-6bf732dc3291",
   "metadata": {},
   "outputs": [],
   "source": []
  },
  {
   "cell_type": "code",
   "execution_count": null,
   "id": "c704f790-92af-4584-b8fd-25efa7fc7dbd",
   "metadata": {},
   "outputs": [],
   "source": []
  },
  {
   "cell_type": "code",
   "execution_count": null,
   "id": "5743e5f9-9ccb-491f-a006-a2335479048e",
   "metadata": {},
   "outputs": [],
   "source": []
  },
  {
   "cell_type": "code",
   "execution_count": null,
   "id": "5dc42e9a-6868-4ffa-b38f-ba5b896c413f",
   "metadata": {},
   "outputs": [],
   "source": []
  },
  {
   "cell_type": "code",
   "execution_count": null,
   "id": "9d854a1d-a9fa-4251-905d-d824bb08301a",
   "metadata": {},
   "outputs": [],
   "source": []
  },
  {
   "cell_type": "code",
   "execution_count": null,
   "id": "d3ad643d-2d09-4af1-91b4-aa12d77161e0",
   "metadata": {},
   "outputs": [],
   "source": []
  },
  {
   "cell_type": "code",
   "execution_count": null,
   "id": "6a9e1e14-8f9d-4143-a6ec-baada8bbbd4e",
   "metadata": {},
   "outputs": [],
   "source": []
  },
  {
   "cell_type": "code",
   "execution_count": null,
   "id": "5bdeb2d3-f0e4-4849-9128-85f9d27992c9",
   "metadata": {},
   "outputs": [],
   "source": []
  },
  {
   "cell_type": "code",
   "execution_count": null,
   "id": "183db46c-94a8-44ab-9438-8f599efe4854",
   "metadata": {},
   "outputs": [],
   "source": []
  },
  {
   "cell_type": "code",
   "execution_count": null,
   "id": "4484e36e-b578-4072-b152-29c70d987f61",
   "metadata": {},
   "outputs": [],
   "source": []
  },
  {
   "cell_type": "code",
   "execution_count": null,
   "id": "1b37b65c-7a97-4cf2-b833-024b536d1beb",
   "metadata": {},
   "outputs": [],
   "source": []
  },
  {
   "cell_type": "code",
   "execution_count": null,
   "id": "df7875ab-ef1f-4599-979b-f64b4a3dceba",
   "metadata": {},
   "outputs": [],
   "source": []
  },
  {
   "cell_type": "markdown",
   "id": "5d2143c1-47bc-49d2-9b4f-28c3a8a6c292",
   "metadata": {},
   "source": [
    "# exercices \n",
    "### 1. Create a Class for a Book\n",
    "- Define a `Book` class with attributes like `title`, `author`, and `pages`.\n",
    "- Create a method `description()` that returns a short summary of the book.\n",
    "\n",
    "### 2. Define a Simple Calculator Class\n",
    "- Make a `Calculator` class with methods for basic operations: `add()`, `subtract()`, `multiply()`, and `divide()`.\n",
    "- Let the user create an instance and call these methods with numbers.\n",
    "\n",
    "### 3. Create a Class for a Bank Account\n",
    "- Define a `BankAccount` class with attributes `balance` and `owner`.\n",
    "- Create methods `deposit()` and `withdraw()` to add or subtract from the balance.\n",
    "\n",
    "### 4. Build a Class for a Student\n",
    "- Create a `Student` class with attributes `name`, `age`, and `grade`.\n",
    "- Add a method `pass()` that returns `True` if the grade is above a passing threshold (e.g., 60).\n",
    "\n",
    "### 5. Create a Class for a Dog\n",
    "- Define a `Dog` class with attributes `name` and `breed`.\n",
    "- Add a method `bark()` that prints a message like \"Woof! My name is [name]\"."
   ]
  }
 ],
 "metadata": {
  "kernelspec": {
   "display_name": "Python 3 (ipykernel)",
   "language": "python",
   "name": "python3"
  },
  "language_info": {
   "codemirror_mode": {
    "name": "ipython",
    "version": 3
   },
   "file_extension": ".py",
   "mimetype": "text/x-python",
   "name": "python",
   "nbconvert_exporter": "python",
   "pygments_lexer": "ipython3",
   "version": "3.11.5"
  }
 },
 "nbformat": 4,
 "nbformat_minor": 5
}
